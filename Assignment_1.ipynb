{
  "nbformat": 4,
  "nbformat_minor": 0,
  "metadata": {
    "colab": {
      "provenance": [],
      "collapsed_sections": [
        "QRkeGDLkj4wT"
      ],
      "include_colab_link": true
    },
    "kernelspec": {
      "name": "python3",
      "display_name": "Python 3"
    },
    "language_info": {
      "name": "python"
    }
  },
  "cells": [
    {
      "cell_type": "markdown",
      "metadata": {
        "id": "view-in-github",
        "colab_type": "text"
      },
      "source": [
        "<a href=\"https://colab.research.google.com/github/Yuparat14/Assignments/blob/main/Assignment_1.ipynb\" target=\"_parent\"><img src=\"https://colab.research.google.com/assets/colab-badge.svg\" alt=\"Open In Colab\"/></a>"
      ]
    },
    {
      "cell_type": "markdown",
      "source": [
        "# DATA"
      ],
      "metadata": {
        "id": "QRkeGDLkj4wT"
      }
    },
    {
      "cell_type": "code",
      "source": [
        "pip install -U scikit-learn"
      ],
      "metadata": {
        "colab": {
          "base_uri": "https://localhost:8080/"
        },
        "id": "KnO2eshJuaVz",
        "outputId": "cfc2e799-d57e-4986-d5ad-e90f1eeded6b"
      },
      "execution_count": 6,
      "outputs": [
        {
          "output_type": "stream",
          "name": "stdout",
          "text": [
            "Requirement already satisfied: scikit-learn in /usr/local/lib/python3.10/dist-packages (1.3.2)\n",
            "Requirement already satisfied: numpy<2.0,>=1.17.3 in /usr/local/lib/python3.10/dist-packages (from scikit-learn) (1.23.5)\n",
            "Requirement already satisfied: scipy>=1.5.0 in /usr/local/lib/python3.10/dist-packages (from scikit-learn) (1.11.4)\n",
            "Requirement already satisfied: joblib>=1.1.1 in /usr/local/lib/python3.10/dist-packages (from scikit-learn) (1.3.2)\n",
            "Requirement already satisfied: threadpoolctl>=2.0.0 in /usr/local/lib/python3.10/dist-packages (from scikit-learn) (3.2.0)\n"
          ]
        }
      ]
    },
    {
      "cell_type": "code",
      "source": [
        "import pandas as pd\n",
        "from sklearn.model_selection import train_test_split\n",
        "from sklearn.feature_selection import RFE\n",
        "from sklearn.ensemble import RandomForestClassifier\n",
        "import numpy as np\n",
        "from sklearn.feature_selection import RFE, SelectKBest, f_regression, mutual_info_classif\n",
        "from sklearn.model_selection import train_test_split\n",
        "from sklearn.linear_model import LinearRegression\n",
        "from sklearn.ensemble import RandomForestRegressor\n",
        "from sklearn.inspection import permutation_importance"
      ],
      "metadata": {
        "id": "dPR9uOZlkrzW"
      },
      "execution_count": 7,
      "outputs": []
    },
    {
      "cell_type": "code",
      "source": [
        "from google.colab import drive\n",
        "drive.mount('/content/drive')"
      ],
      "metadata": {
        "colab": {
          "base_uri": "https://localhost:8080/"
        },
        "id": "uVEVYfm8j9wz",
        "outputId": "0ad38267-67e6-4c10-e886-defa86114961"
      },
      "execution_count": 8,
      "outputs": [
        {
          "output_type": "stream",
          "name": "stdout",
          "text": [
            "Drive already mounted at /content/drive; to attempt to forcibly remount, call drive.mount(\"/content/drive\", force_remount=True).\n"
          ]
        }
      ]
    },
    {
      "cell_type": "code",
      "source": [
        "df = pd.read_csv(\"/content/drive/MyDrive/Colab Notebooks/Tools for Stat Data Sci/pima-indians-diabetes.csv\")"
      ],
      "metadata": {
        "id": "z6nBHztVkOr6"
      },
      "execution_count": 9,
      "outputs": []
    },
    {
      "cell_type": "code",
      "source": [
        "df.shape"
      ],
      "metadata": {
        "id": "Tx5f0q52Rtvz",
        "colab": {
          "base_uri": "https://localhost:8080/"
        },
        "outputId": "fe1c86e4-9464-4af6-d5c0-65e88dfc69ae"
      },
      "execution_count": 10,
      "outputs": [
        {
          "output_type": "execute_result",
          "data": {
            "text/plain": [
              "(768, 9)"
            ]
          },
          "metadata": {},
          "execution_count": 10
        }
      ]
    },
    {
      "cell_type": "code",
      "source": [
        "df.columns"
      ],
      "metadata": {
        "id": "hDP0eDA0xSzU",
        "colab": {
          "base_uri": "https://localhost:8080/"
        },
        "outputId": "fbee9a56-00f0-4de2-a331-de87d297280c"
      },
      "execution_count": 11,
      "outputs": [
        {
          "output_type": "execute_result",
          "data": {
            "text/plain": [
              "Index(['Number of times pregnant',\n",
              "       'Plasma glucose concentration a 2 hours in an oral glucose tolerance test',\n",
              "       'Diastolic blood pressure (mm Hg)', 'Triceps skin fold thickness (mm)',\n",
              "       '2-Hour serum insulin (mu U/ml)',\n",
              "       'Body mass index (weight in kg/(height in m)^2)',\n",
              "       'Diabetes pedigree function', 'Age (years)', 'Class variable (0 or 1)'],\n",
              "      dtype='object')"
            ]
          },
          "metadata": {},
          "execution_count": 11
        }
      ]
    },
    {
      "cell_type": "code",
      "source": [
        "X = df.drop('Class variable (0 or 1)', axis=1)\n",
        "y = df['Class variable (0 or 1)']\n",
        "# Split the data set into a training set and a test set\n",
        "X_train, X_test, y_train, y_test = train_test_split(X, y, test_size=0.2, random_state=42)"
      ],
      "metadata": {
        "id": "j1eV_4K6x1zp"
      },
      "execution_count": 12,
      "outputs": []
    },
    {
      "cell_type": "code",
      "source": [
        "# get the dataset\n",
        "def get_dataset():\n",
        "  X = df.drop('Class variable (0 or 1)', axis=1)\n",
        "  y = df['Class variable (0 or 1)']\n",
        "  return X, y"
      ],
      "metadata": {
        "id": "Exch6059V5Rj"
      },
      "execution_count": 13,
      "outputs": []
    },
    {
      "cell_type": "markdown",
      "source": [
        "# **1.Recursive Feature Elimination (RFE)**"
      ],
      "metadata": {
        "id": "IFMfWK72jzIe"
      }
    },
    {
      "cell_type": "markdown",
      "source": [
        "## RFE for Classification"
      ],
      "metadata": {
        "id": "Uh5-B9MXsAc7"
      }
    },
    {
      "cell_type": "code",
      "execution_count": 14,
      "metadata": {
        "id": "K3pCb3JcfAqz",
        "colab": {
          "base_uri": "https://localhost:8080/"
        },
        "outputId": "c0709b7c-c6b4-474d-90e1-c9f6c0cecfef"
      },
      "outputs": [
        {
          "output_type": "stream",
          "name": "stdout",
          "text": [
            "Accuracy: 0.717 (0.052)\n"
          ]
        }
      ],
      "source": [
        "# evaluate RFE for classification\n",
        "from numpy import mean\n",
        "from numpy import std\n",
        "from sklearn.datasets import make_classification\n",
        "from sklearn.model_selection import cross_val_score\n",
        "from sklearn.model_selection import RepeatedStratifiedKFold\n",
        "from sklearn.feature_selection import RFE\n",
        "from sklearn.tree import DecisionTreeClassifier\n",
        "from sklearn.pipeline import Pipeline\n",
        "# get the dataset\n",
        "def get_dataset():\n",
        "  X = df.drop('Class variable (0 or 1)', axis=1)\n",
        "  y = df['Class variable (0 or 1)']\n",
        "  return X, y\n",
        "# create pipeline\n",
        "rfe = RFE(estimator=DecisionTreeClassifier(), n_features_to_select=5)\n",
        "model = DecisionTreeClassifier()\n",
        "pipeline = Pipeline(steps=[('s',rfe),('m',model)])\n",
        "# evaluate model\n",
        "cv = RepeatedStratifiedKFold(n_splits=10, n_repeats=3, random_state=42)\n",
        "n_scores = cross_val_score(pipeline, X , y , scoring='accuracy', cv=cv, n_jobs=-1, error_score='raise')\n",
        "# report performance\n",
        "print('Accuracy: %.3f (%.3f)' % (mean(n_scores), std(n_scores)))"
      ]
    },
    {
      "cell_type": "code",
      "source": [
        "print(n_scores)"
      ],
      "metadata": {
        "id": "aTOb-59nsDtL",
        "colab": {
          "base_uri": "https://localhost:8080/"
        },
        "outputId": "8b1e4851-3463-477b-8ab4-e039544e15e1"
      },
      "execution_count": 15,
      "outputs": [
        {
          "output_type": "stream",
          "name": "stdout",
          "text": [
            "[0.68831169 0.79220779 0.75324675 0.80519481 0.79220779 0.68831169\n",
            " 0.7012987  0.72727273 0.71052632 0.57894737 0.67532468 0.66233766\n",
            " 0.76623377 0.68831169 0.80519481 0.76623377 0.75324675 0.68831169\n",
            " 0.75       0.71052632 0.72727273 0.72727273 0.76623377 0.67532468\n",
            " 0.68831169 0.67532468 0.68831169 0.75324675 0.64473684 0.65789474]\n"
          ]
        }
      ]
    },
    {
      "cell_type": "markdown",
      "source": [
        "## RFE for Regression"
      ],
      "metadata": {
        "id": "3l6LgL5ysKKj"
      }
    },
    {
      "cell_type": "code",
      "source": [
        "# evaluate RFE for regression\n",
        "from numpy import mean\n",
        "from numpy import std\n",
        "from sklearn.datasets import make_regression\n",
        "from sklearn.model_selection import cross_val_score\n",
        "from sklearn.model_selection import RepeatedKFold\n",
        "from sklearn.feature_selection import RFE\n",
        "from sklearn.tree import DecisionTreeRegressor\n",
        "from sklearn.pipeline import Pipeline\n",
        "# get the dataset\n",
        "def get_dataset():\n",
        "  X = df.drop('Class variable (0 or 1)', axis=1)\n",
        "  y = df['Class variable (0 or 1)']\n",
        "  return X, y\n",
        "# create pipeline\n",
        "rfe = RFE(estimator=DecisionTreeRegressor(), n_features_to_select=5)\n",
        "model = DecisionTreeRegressor()\n",
        "pipeline = Pipeline(steps=[('s',rfe),('m',model)])\n",
        "# evaluate model\n",
        "cv = RepeatedKFold(n_splits=10, n_repeats=3, random_state=42)\n",
        "n_scores = cross_val_score(pipeline, X, y, scoring='neg_mean_absolute_error', cv=cv, n_jobs=-1, error_score='raise')\n",
        "# report performance\n",
        "print('MAE: %.3f (%.3f)' % (mean(n_scores), std(n_scores)))"
      ],
      "metadata": {
        "id": "qmHwfuAlsIBx",
        "colab": {
          "base_uri": "https://localhost:8080/"
        },
        "outputId": "7528bd9f-bfbe-4ee4-9075-070561e6a35d"
      },
      "execution_count": 16,
      "outputs": [
        {
          "output_type": "stream",
          "name": "stdout",
          "text": [
            "MAE: -0.290 (0.047)\n"
          ]
        }
      ]
    },
    {
      "cell_type": "markdown",
      "source": [
        "# **2.Stat feature selection**"
      ],
      "metadata": {
        "id": "86sTRFquuk9b"
      }
    },
    {
      "cell_type": "markdown",
      "source": [
        "## Regression Feature Selection"
      ],
      "metadata": {
        "id": "u-8yevu2usNK"
      }
    },
    {
      "cell_type": "code",
      "source": [
        "from sklearn.datasets import make_regression\n",
        "from sklearn.feature_selection import SelectKBest\n",
        "from sklearn.feature_selection import f_regression\n",
        "\n",
        "# get the dataset\n",
        "def get_dataset():\n",
        "    X = df.drop('Class variable (0 or 1)', axis=1)\n",
        "    y = df['Class variable (0 or 1)']\n",
        "    return X, y\n",
        "\n",
        "# define feature selection\n",
        "fs = SelectKBest(score_func=f_regression, k=8)\n",
        "\n",
        "# get the dataset\n",
        "X, y = get_dataset()\n",
        "\n",
        "# apply feature selection\n",
        "X_selected = fs.fit_transform(X, y)\n",
        "print(X_selected.shape)\n"
      ],
      "metadata": {
        "id": "7gqxW7wKd4ku",
        "colab": {
          "base_uri": "https://localhost:8080/"
        },
        "outputId": "2f21a586-7234-449b-d1d5-592ba6a8b5f9"
      },
      "execution_count": 17,
      "outputs": [
        {
          "output_type": "stream",
          "name": "stdout",
          "text": [
            "(768, 8)\n"
          ]
        }
      ]
    },
    {
      "cell_type": "code",
      "source": [
        "from sklearn.feature_selection import SelectKBest\n",
        "from sklearn.feature_selection import f_regression\n",
        "\n",
        "# get the dataset\n",
        "def get_dataset():\n",
        "    X = df.drop('Class variable (0 or 1)', axis=1)\n",
        "    y = df['Class variable (0 or 1)']\n",
        "    return X, y\n",
        "\n",
        "# define feature selection\n",
        "fs = SelectKBest(score_func=f_regression, k=8)\n",
        "\n",
        "# fit and transform on the training set\n",
        "X_train_selected = fs.fit_transform(X_train, y_train)\n",
        "\n",
        "# transform the test set using the same feature selection\n",
        "X_test_selected = fs.transform(X_test)\n",
        "\n",
        "# Print the shape of the selected features\n",
        "print(X_train_selected.shape)\n",
        "print(X_test_selected.shape)\n"
      ],
      "metadata": {
        "id": "M-aMqfXtTPij",
        "colab": {
          "base_uri": "https://localhost:8080/"
        },
        "outputId": "e83bb76c-8606-4216-ee5e-306e3bee38f9"
      },
      "execution_count": 18,
      "outputs": [
        {
          "output_type": "stream",
          "name": "stdout",
          "text": [
            "(614, 8)\n",
            "(154, 8)\n"
          ]
        }
      ]
    },
    {
      "cell_type": "markdown",
      "source": [
        "## Classification Feature Selection"
      ],
      "metadata": {
        "id": "JGpFSnk-uxGh"
      }
    },
    {
      "cell_type": "code",
      "source": [
        "# ANOVA feature selection for numeric input and categorical output\n",
        "from sklearn.feature_selection import f_classif# get the dataset\n",
        "\n",
        "X,y=  get_dataset()\n",
        "# define feature selection\n",
        "fs = SelectKBest(score_func=f_classif, k=8)\n",
        "# apply feature selection\n",
        "X_selected = fs.fit_transform(X, y)\n",
        "print(X_selected.shape)"
      ],
      "metadata": {
        "id": "sSwHyQ72uwbL",
        "colab": {
          "base_uri": "https://localhost:8080/"
        },
        "outputId": "3100ddc8-49f8-4a1a-f4d0-0c40babedeba"
      },
      "execution_count": 19,
      "outputs": [
        {
          "output_type": "stream",
          "name": "stdout",
          "text": [
            "(768, 8)\n"
          ]
        }
      ]
    },
    {
      "cell_type": "markdown",
      "source": [
        "# **3.Permutation Feature Importance**\n",
        "\n",
        "(ความสำคัญของคุณลักษณะการเรียงสับเปลี่ยน)"
      ],
      "metadata": {
        "id": "K4zarrUcvNsC"
      }
    },
    {
      "cell_type": "markdown",
      "source": [
        "## permutation feature importance with knn for regression"
      ],
      "metadata": {
        "id": "S6QQ_Fof19XP"
      }
    },
    {
      "cell_type": "code",
      "source": [
        "# permutation feature importance with knn for regression\n",
        "from sklearn.datasets import make_regression\n",
        "from sklearn.neighbors import KNeighborsRegressor\n",
        "from sklearn.inspection import permutation_importance\n",
        "from matplotlib import pyplot\n",
        "# get the dataset\n",
        "def get_dataset():\n",
        "    X = df.drop('Class variable (0 or 1)', axis=1)\n",
        "    y = df['Class variable (0 or 1)']\n",
        "    return X, y\n",
        "\n",
        "# define the model\n",
        "model = KNeighborsRegressor()\n",
        "# fit the model\n",
        "model.fit(X, y)\n",
        "# perform permutation importance\n",
        "results = permutation_importance(model, X, y, scoring='neg_mean_squared_error')\n",
        "# get importance\n",
        "importance = results.importances_mean\n",
        "# summarize feature importance\n",
        "for i,v in enumerate(importance):\n",
        "\tprint('Feature: %0d, Score: %.5f' % (i,v))\n",
        "# plot feature importance\n",
        "pyplot.bar([x for x in range(len(importance))], importance)\n",
        "pyplot.show()"
      ],
      "metadata": {
        "id": "dFYwUS8iaV6C",
        "colab": {
          "base_uri": "https://localhost:8080/",
          "height": 569
        },
        "outputId": "bc394b68-52a9-4ff8-85a1-6faf39217270"
      },
      "execution_count": 20,
      "outputs": [
        {
          "output_type": "stream",
          "name": "stdout",
          "text": [
            "Feature: 0, Score: -0.00078\n",
            "Feature: 1, Score: 0.10628\n",
            "Feature: 2, Score: 0.01686\n",
            "Feature: 3, Score: 0.01182\n",
            "Feature: 4, Score: 0.05108\n",
            "Feature: 5, Score: 0.00494\n",
            "Feature: 6, Score: 0.00000\n",
            "Feature: 7, Score: 0.01857\n"
          ]
        },
        {
          "output_type": "display_data",
          "data": {
            "text/plain": [
              "<Figure size 640x480 with 1 Axes>"
            ],
            "image/png": "[encoded data removed]"
          },
          "metadata": {}
        }
      ]
    },
    {
      "cell_type": "markdown",
      "source": [
        "## permutation feature importance with knn for classification"
      ],
      "metadata": {
        "id": "y7dVBZSo2A-f"
      }
    },
    {
      "cell_type": "code",
      "source": [
        "from sklearn.neighbors import KNeighborsClassifier\n",
        "# define the model\n",
        "model = KNeighborsClassifier()\n",
        "# fit the model\n",
        "model.fit(X, y)\n",
        "# perform permutation importance\n",
        "results = permutation_importance(model, X, y, scoring='accuracy')\n",
        "# get importance\n",
        "importance = results.importances_mean\n",
        "# summarize feature importance\n",
        "for i,v in enumerate(importance):\n",
        "\tprint('Feature: %0d, Score: %.5f' % (i,v))\n",
        "# plot feature importance\n",
        "pyplot.bar([x for x in range(len(importance))], importance)\n",
        "pyplot.show()"
      ],
      "metadata": {
        "id": "_GCMPHt72EYX",
        "colab": {
          "base_uri": "https://localhost:8080/",
          "height": 569
        },
        "outputId": "12a1776e-dc69-4edf-dd4d-57161f0237b8"
      },
      "execution_count": 21,
      "outputs": [
        {
          "output_type": "stream",
          "name": "stdout",
          "text": [
            "Feature: 0, Score: 0.00104\n",
            "Feature: 1, Score: 0.14766\n",
            "Feature: 2, Score: 0.03229\n",
            "Feature: 3, Score: 0.02161\n",
            "Feature: 4, Score: 0.06615\n",
            "Feature: 5, Score: 0.00365\n",
            "Feature: 6, Score: 0.00000\n",
            "Feature: 7, Score: 0.03932\n"
          ]
        },
        {
          "output_type": "display_data",
          "data": {
            "text/plain": [
              "<Figure size 640x480 with 1 Axes>"
            ],
            "image/png": "[encoded data removed]"
          },
          "metadata": {}
        }
      ]
    },
    {
      "cell_type": "markdown",
      "source": [
        "# **4.Comparison in model development**"
      ],
      "metadata": {
        "id": "NPYMyCCN6L89"
      }
    },
    {
      "cell_type": "markdown",
      "source": [
        "## Number of features"
      ],
      "metadata": {
        "id": "HJtlB43evWpt"
      }
    },
    {
      "cell_type": "code",
      "source": [
        "# explore the number of selected features for RFE\n",
        "from numpy import mean\n",
        "from numpy import std\n",
        "from sklearn.datasets import make_classification\n",
        "from sklearn.model_selection import cross_val_score\n",
        "from sklearn.model_selection import RepeatedStratifiedKFold\n",
        "from sklearn.feature_selection import RFE\n",
        "from sklearn.tree import DecisionTreeClassifier\n",
        "from sklearn.pipeline import Pipeline\n",
        "from matplotlib import pyplot\n",
        "\n",
        "# get the dataset\n",
        "def get_dataset():\n",
        "  X = df.drop('Class variable (0 or 1)', axis=1)\n",
        "  y = df['Class variable (0 or 1)']\n",
        "  return X, y\n",
        "\n",
        "\n",
        "# get a list of models to evaluate\n",
        "def get_models():\n",
        "\tmodels = dict()\n",
        "\tfor i in range(2, 10):\n",
        "\t\trfe = RFE(estimator=DecisionTreeClassifier(), n_features_to_select=i)\n",
        "\t\tmodel = DecisionTreeClassifier()\n",
        "\t\tmodels[str(i)] = Pipeline(steps=[('s',rfe),('m',model)])\n",
        "\treturn models\n",
        "\n",
        "# evaluate a give model using cross-validation\n",
        "def evaluate_model(model, X, y):\n",
        "\tcv = RepeatedStratifiedKFold(n_splits=10, n_repeats=3, random_state=42)\n",
        "\tscores = cross_val_score(model, X, y, scoring='accuracy', cv=cv, n_jobs=-1, error_score='raise')\n",
        "\treturn scores\n",
        "\n",
        "# define dataset\n",
        "X, y = get_dataset()\n",
        "# get the models to evaluate\n",
        "models = get_models()\n",
        "# evaluate the models and store results\n",
        "results, names = list(), list()\n",
        "for name, model in models.items():\n",
        "\tscores = evaluate_model(model, X, y)\n",
        "\tresults.append(scores)\n",
        "\tnames.append(name)\n",
        "\tprint('>%s %.3f (%.3f)' % (name, mean(scores), std(scores)))\n",
        "# plot model performance for comparison\n",
        "pyplot.boxplot(results, labels=names, showmeans=True)\n",
        "pyplot.show()"
      ],
      "metadata": {
        "id": "zwry_5ZQdaZf",
        "colab": {
          "base_uri": "https://localhost:8080/",
          "height": 569
        },
        "outputId": "12ed8f4a-11b1-4986-feb1-b4020a1d3478"
      },
      "execution_count": 22,
      "outputs": [
        {
          "output_type": "stream",
          "name": "stdout",
          "text": [
            ">2 0.690 (0.049)\n",
            ">3 0.681 (0.040)\n",
            ">4 0.693 (0.058)\n",
            ">5 0.715 (0.056)\n",
            ">6 0.714 (0.053)\n",
            ">7 0.702 (0.055)\n",
            ">8 0.704 (0.051)\n",
            ">9 0.703 (0.049)\n"
          ]
        },
        {
          "output_type": "display_data",
          "data": {
            "text/plain": [
              "<Figure size 640x480 with 1 Axes>"
            ],
            "image/png": "[encoded data removed]"
          },
          "metadata": {}
        }
      ]
    },
    {
      "cell_type": "markdown",
      "source": [
        "จำนวนฟีเจอร์ที่ดีที่สุดคือ 5 เนื่องจากสอดคล้องกับความแม่นยำสูงสุดที่ 0.85"
      ],
      "metadata": {
        "id": "sG7I9ffUi0bI"
      }
    },
    {
      "cell_type": "markdown",
      "source": [
        "ในกรณีนี้ ดูเหมือนว่ามีการเรียกใช้โมเดล RFE และส่งคืนรายการคุณลักษณะที่จัดอันดับตามคะแนนความสำคัญแล้ว จำนวนคุณสมบัติที่เลือกจะถูกกำหนดโดยการเลือกจุดตัดในรายการจัดอันดับ เช่น ถ้าเราเลือกคุณสมบัติ 3 อันดับแรก เราจะเลือกคุณสมบัติที่มีคะแนน 0.85, 0.80 และ 0.79"
      ],
      "metadata": {
        "id": "AZNidQuBiQgp"
      }
    },
    {
      "cell_type": "code",
      "source": [
        "# Define the dataset\n",
        "def get_dataset():\n",
        "    X = df.drop('Class variable (0 or 1)', axis=1)\n",
        "    y = df['Class variable (0 or 1)']\n",
        "    return X, y\n",
        "\n",
        "# Get a list of models to evaluate\n",
        "def get_models():\n",
        "    models = dict()\n",
        "    for i in range(2, 10):\n",
        "        rfe = RFE(estimator=DecisionTreeClassifier(), n_features_to_select=i)\n",
        "        model = DecisionTreeClassifier()\n",
        "        models[str(i)] = Pipeline(steps=[('s', rfe), ('m', model)])\n",
        "    return models\n",
        "\n",
        "# Evaluate a given model using cross-validation\n",
        "def evaluate_model(model, X, y):\n",
        "    cv = RepeatedStratifiedKFold(n_splits=10, n_repeats=3, random_state=42)\n",
        "    scores = cross_val_score(model, X, y, scoring='accuracy', cv=cv, n_jobs=-1, error_score='raise')\n",
        "    return scores\n",
        "\n",
        "# Define the dataset\n",
        "X, y = get_dataset()\n",
        "\n",
        "# Get the models to evaluate\n",
        "models = get_models()\n",
        "\n",
        "# Evaluate the models and store results\n",
        "results, names = list(), list()\n",
        "for name, model in models.items():\n",
        "    scores = evaluate_model(model, X, y)\n",
        "    results.append(scores)\n",
        "    names.append(name)\n",
        "    print('>%s %.3f (%.3f)' % (name, mean(scores), std(scores)))\n",
        "\n",
        "# Plot model performance for comparison\n",
        "pyplot.boxplot(results, labels=names, showmeans=True)\n",
        "pyplot.xlabel('Number of Selected Features')\n",
        "pyplot.ylabel('Accuracy')\n",
        "pyplot.title('Model Performance with Different Numbers of Selected Features')\n",
        "pyplot.show()\n"
      ],
      "metadata": {
        "id": "lCvr_7lAhYRY",
        "colab": {
          "base_uri": "https://localhost:8080/",
          "height": 611
        },
        "outputId": "bbc69750-e928-49ba-d3e8-9aebcf0d69d5"
      },
      "execution_count": 23,
      "outputs": [
        {
          "output_type": "stream",
          "name": "stdout",
          "text": [
            ">2 0.677 (0.045)\n",
            ">3 0.681 (0.054)\n",
            ">4 0.697 (0.058)\n",
            ">5 0.703 (0.064)\n",
            ">6 0.705 (0.057)\n",
            ">7 0.710 (0.053)\n",
            ">8 0.711 (0.053)\n",
            ">9 0.708 (0.050)\n"
          ]
        },
        {
          "output_type": "display_data",
          "data": {
            "text/plain": [
              "<Figure size 640x480 with 1 Axes>"
            ],
            "image/png": "[encoded data removed]"
          },
          "metadata": {}
        }
      ]
    },
    {
      "cell_type": "markdown",
      "source": [
        "จำนวนฟีเจอร์ที่ดีที่สุดคือ 5 เนื่องจากสอดคล้องกับความแม่นยำสูงสุดที่ 0.85 อย่างไรก็ตาม สิ่งสำคัญที่ควรทราบก็คือความแตกต่างในความแม่นยำระหว่างฟีเจอร์ 5, 6 และ 7 นั้นค่อนข้างน้อย ดังนั้นจำนวนฟีเจอร์ที่เหมาะสมที่สุดอาจขึ้นอยู่กับปัจจัยอื่นๆ เช่น ทรัพยากรการคำนวณ หรือ ข้อกำหนดเฉพาะ"
      ],
      "metadata": {
        "id": "ORWYIz-Ftf9U"
      }
    },
    {
      "cell_type": "code",
      "source": [
        "from sklearn.datasets import make_classification\n",
        "from sklearn.model_selection import train_test_split\n",
        "from sklearn.ensemble import RandomForestClassifier\n",
        "from sklearn.inspection import permutation_importance\n",
        "from sklearn.feature_selection import RFE\n",
        "from sklearn.tree import DecisionTreeClassifier\n",
        "from sklearn.model_selection import RepeatedStratifiedKFold, cross_val_score\n",
        "from sklearn.pipeline import Pipeline\n",
        "import numpy as np\n",
        "import matplotlib.pyplot as plt\n",
        "\n",
        "# Get a list of models to evaluate\n",
        "def get_models():\n",
        "    models = dict()\n",
        "    for i in range(2, 10):\n",
        "        rfe = RFE(estimator=DecisionTreeClassifier(), n_features_to_select=i)\n",
        "        model = DecisionTreeClassifier()\n",
        "        models[str(i)] = Pipeline(steps=[('s', rfe), ('m', model)])\n",
        "    return models\n",
        "\n",
        "# Evaluate a given model using cross-validation\n",
        "def evaluate_model(model, X, y):\n",
        "    cv = RepeatedStratifiedKFold(n_splits=10, n_repeats=3, random_state=1)\n",
        "    scores = cross_val_score(model, X, y, scoring='accuracy', cv=cv, n_jobs=-1, error_score='raise')\n",
        "    return scores\n",
        "\n",
        "# Get the dataset\n",
        "X, y = get_dataset()\n",
        "\n",
        "# Get the models to evaluate\n",
        "models = get_models()\n",
        "\n",
        "# Evaluate the models and store results\n",
        "results, names = list(), list()\n",
        "\n",
        "# Dictionary to store permutation importances for each number of selected features\n",
        "perm_importances = {}\n",
        "\n",
        "for name, model in models.items():\n",
        "    # Fit the RFE instance with the training data\n",
        "    model['s'].fit(X, y)\n",
        "\n",
        "    # Get the indices of the most important features\n",
        "    important_features = model['s'].get_support(indices=True)\n",
        "\n",
        "    # Store permutation importances for each number of selected features\n",
        "    perm_importances[name] = []\n",
        "\n",
        "    # Perform permutation feature importance for each number of selected features\n",
        "    for i in range(2, int(name) + 1):\n",
        "        rfe = RFE(estimator=DecisionTreeClassifier(), n_features_to_select=i)\n",
        "        model = DecisionTreeClassifier()\n",
        "        pipeline = Pipeline(steps=[('s', rfe), ('m', model)])\n",
        "\n",
        "        # Fit the pipeline with the training data\n",
        "        pipeline.fit(X, y)\n",
        "\n",
        "        # Perform permutation feature importance\n",
        "        result = permutation_importance(pipeline, X, y, n_repeats=10, random_state=42)\n",
        "\n",
        "        # Get the mean importance value\n",
        "        mean_importance = np.mean(result.importances_mean)\n",
        "\n",
        "        # Store the mean importance value\n",
        "        perm_importances[name].append(mean_importance)\n",
        "\n",
        "# Plot permutation feature importance for each number of selected features\n",
        "for name, importances in perm_importances.items():\n",
        "    plt.plot(range(2, int(name) + 1), importances, label=f'{name} features')\n",
        "\n",
        "plt.xlabel('Number of Selected Features')\n",
        "plt.ylabel('Permutation Feature Importance')\n",
        "plt.title('Permutation Feature Importance for Different Numbers of Selected Features')\n",
        "plt.legend()\n",
        "plt.show()\n"
      ],
      "metadata": {
        "id": "i4I4zSQsq9xV",
        "colab": {
          "base_uri": "https://localhost:8080/",
          "height": 472
        },
        "outputId": "2ab0c299-c694-44b3-9bc7-34a97da1def6"
      },
      "execution_count": 24,
      "outputs": [
        {
          "output_type": "display_data",
          "data": {
            "text/plain": [
              "<Figure size 640x480 with 1 Axes>"
            ],
            "image/png": "[encoded data removed]"
          },
          "metadata": {}
        }
      ]
    },
    {
      "cell_type": "markdown",
      "source": [
        "จำนวนฟีเจอร์ที่ดีที่สุดคือ 8 เนื่องจากสอดคล้องกับความแม่นยำสูงสุดที่ 0.15 อย่างไรก็ตาม สิ่งสำคัญที่ควรทราบก็คือความแตกต่างในความแม่นยำระหว่างฟีเจอร์ 9 และ 7 นั้นค่อนข้างน้อย ดังนั้นจำนวนฟีเจอร์ที่เหมาะสมที่สุดอาจขึ้นอยู่กับปัจจัยอื่นๆ"
      ],
      "metadata": {
        "id": "ur3ebZSCtmtd"
      }
    },
    {
      "cell_type": "markdown",
      "source": [
        "## Selected features"
      ],
      "metadata": {
        "id": "Ghlk1_P7vMdc"
      }
    },
    {
      "cell_type": "code",
      "source": [
        "# evaluation of a model using all features\n",
        "from sklearn.datasets import make_classification\n",
        "from sklearn.model_selection import train_test_split\n",
        "from sklearn.linear_model import LogisticRegression\n",
        "from sklearn.metrics import accuracy_score\n",
        "# define the dataset\n",
        "X, y = get_dataset()\n",
        "# fit the model\n",
        "model = LogisticRegression(solver='liblinear')\n",
        "model.fit(X_train, y_train)\n",
        "# evaluate the model\n",
        "yhat = model.predict(X_test)\n",
        "# evaluate predictions\n",
        "accuracy = accuracy_score(y_test, yhat)\n",
        "print('Accuracy: %.2f' % (accuracy*100))"
      ],
      "metadata": {
        "id": "BarYbJynv8uT",
        "colab": {
          "base_uri": "https://localhost:8080/"
        },
        "outputId": "4ee7dd48-2d40-4d23-e515-d98ef0b48c7a"
      },
      "execution_count": 25,
      "outputs": [
        {
          "output_type": "stream",
          "name": "stdout",
          "text": [
            "Accuracy: 75.97\n"
          ]
        }
      ]
    },
    {
      "cell_type": "code",
      "source": [],
      "metadata": {
        "id": "np1vXinTxQLF"
      },
      "execution_count": 25,
      "outputs": []
    },
    {
      "cell_type": "code",
      "source": [
        "#evaluation of a model using 5 features chosen with REF\n",
        "from sklearn.datasets import make_classification\n",
        "from sklearn.model_selection import train_test_split\n",
        "from sklearn.feature_selection import SelectFromModel, RFE\n",
        "from sklearn.ensemble import RandomForestClassifier\n",
        "from sklearn.linear_model import LogisticRegression\n",
        "from sklearn.metrics import accuracy_score\n",
        "\n",
        "X, y = get_dataset()\n",
        "# Split into train and test sets\n",
        "X_train, X_test, y_train, y_test = train_test_split(X, y, test_size=0.2, random_state=42)\n",
        "\n",
        "# Feature selection using RFE\n",
        "fs = RFE(estimator=RandomForestClassifier(n_estimators=1000), n_features_to_select=5)\n",
        "X_train_fs = fs.fit_transform(X_train, y_train)\n",
        "X_test_fs = fs.transform(X_test)\n",
        "\n",
        "# Fit the Logistic Regression model\n",
        "model = LogisticRegression(solver='liblinear')\n",
        "model.fit(X_train_fs, y_train)\n",
        "\n",
        "# Evaluate the model\n",
        "yhat = model.predict(X_test_fs)\n",
        "\n",
        "# Evaluate predictions\n",
        "accuracy = accuracy_score(y_test, yhat)\n",
        "print('Accuracy: %.2f%%' % (accuracy * 100))\n"
      ],
      "metadata": {
        "id": "13ecxDrrxQNz",
        "colab": {
          "base_uri": "https://localhost:8080/"
        },
        "outputId": "4ee3e71d-257b-491a-bc16-f4875e6aa6df"
      },
      "execution_count": 26,
      "outputs": [
        {
          "output_type": "stream",
          "name": "stdout",
          "text": [
            "Accuracy: 77.27%\n"
          ]
        }
      ]
    },
    {
      "cell_type": "code",
      "source": [],
      "metadata": {
        "id": "wVmADxagwiMk"
      },
      "execution_count": 26,
      "outputs": []
    },
    {
      "cell_type": "code",
      "metadata": {
        "id": "h8C0GyreS8Z5",
        "colab": {
          "base_uri": "https://localhost:8080/"
        },
        "outputId": "174948c7-1a99-41b1-8493-91df15763658"
      },
      "source": [
        "# evaluation of a model using 5 features chosen with Stat feature selection\n",
        "from sklearn.datasets import make_classification\n",
        "from sklearn.model_selection import train_test_split\n",
        "from sklearn.feature_selection import SelectFromModel\n",
        "from sklearn.ensemble import RandomForestClassifier\n",
        "from sklearn.linear_model import LogisticRegression\n",
        "from sklearn.metrics import accuracy_score\n",
        "from sklearn.feature_selection import chi2\n",
        "\n",
        "X, y = get_dataset()\n",
        "# Split into train and test sets\n",
        "X_train, X_test, y_train, y_test = train_test_split(X, y, test_size=0.2, random_state=42)\n",
        "\n",
        "# Feature selection using SelectKBest with chi-squared test\n",
        "k_best = SelectKBest(score_func=chi2, k=5)\n",
        "X_train_fs = k_best.fit_transform(X_train, y_train)\n",
        "X_test_fs = k_best.transform(X_test)\n",
        "\n",
        "# Fit the Logistic Regression model\n",
        "model = LogisticRegression(solver='liblinear')\n",
        "model.fit(X_train_fs, y_train)\n",
        "\n",
        "# Evaluate the model\n",
        "yhat = model.predict(X_test_fs)\n",
        "\n",
        "# Evaluate predictions\n",
        "accuracy = accuracy_score(y_test, yhat)\n",
        "print('Accuracy: %.2f%%' % (accuracy * 100))"
      ],
      "execution_count": 27,
      "outputs": [
        {
          "output_type": "stream",
          "name": "stdout",
          "text": [
            "Accuracy: 75.97%\n"
          ]
        }
      ]
    },
    {
      "cell_type": "code",
      "source": [],
      "metadata": {
        "id": "SkbayHchyyA7"
      },
      "execution_count": 27,
      "outputs": []
    },
    {
      "cell_type": "code",
      "source": [
        "#evaluation of a model using 8 features chosen with Permutation Feature Importance\n",
        "\n",
        "X, y = get_dataset()\n",
        "# Split into train and test sets\n",
        "X_train, X_test, y_train, y_test = train_test_split(X, y, test_size=0.2, random_state=42)\n",
        "\n",
        "# Train a RandomForestClassifier to get initial feature importance\n",
        "rf_model = RandomForestClassifier(n_estimators=1000, random_state=42)\n",
        "rf_model.fit(X_train, y_train)\n",
        "\n",
        "# Calculate permutation feature importance\n",
        "perm_importance = permutation_importance(rf_model, X_train, y_train, n_repeats=10, random_state=42)\n",
        "\n",
        "# Get indices of top 8 features based on permutation importance\n",
        "top_features_indices = (-perm_importance.importances_mean).argsort()[:8]\n",
        "\n",
        "# Select the top 8 features\n",
        "X_train_perm_importance = X_train.iloc[:, top_features_indices]\n",
        "X_test_perm_importance = X_test.iloc[:, top_features_indices]\n",
        "\n",
        "# Fit the Logistic Regression model on selected features\n",
        "lr_model = LogisticRegression(solver='liblinear')\n",
        "lr_model.fit(X_train_perm_importance, y_train)\n",
        "\n",
        "# Evaluate the model\n",
        "yhat = lr_model.predict(X_test_perm_importance)\n",
        "\n",
        "# Evaluate predictions\n",
        "accuracy = accuracy_score(y_test, yhat)\n",
        "print('Accuracy: %.2f%%' % (accuracy * 100))"
      ],
      "metadata": {
        "id": "K-by_HhUyyEb",
        "colab": {
          "base_uri": "https://localhost:8080/"
        },
        "outputId": "ffc0c3ed-907f-415c-c42d-5111c3bd90a3"
      },
      "execution_count": 28,
      "outputs": [
        {
          "output_type": "stream",
          "name": "stdout",
          "text": [
            "Accuracy: 75.97%\n"
          ]
        }
      ]
    },
    {
      "cell_type": "markdown",
      "source": [
        "จากการ Result พบว่า model using 5 features chosen with REF ให้ประสิทธิภาพอยู่ที่ Accuracy: 77.27% ซึ่งสูงที่สุดจากท้ั้งหมด 3 วิธี"
      ],
      "metadata": {
        "id": "AfykxD2uzekc"
      }
    },
    {
      "cell_type": "markdown",
      "source": [
        "## Feature Ranking"
      ],
      "metadata": {
        "id": "C3tDL2hTU7zE"
      }
    },
    {
      "cell_type": "code",
      "source": [
        "import numpy as np\n",
        "import pandas as pd\n",
        "import matplotlib.pyplot as plt\n",
        "from sklearn.datasets import make_classification\n",
        "from sklearn.model_selection import train_test_split\n",
        "from sklearn.ensemble import RandomForestClassifier\n",
        "from sklearn.feature_selection import RFE, SelectKBest, f_classif\n",
        "from sklearn.inspection import permutation_importance\n",
        "\n",
        "X, y = get_dataset()\n",
        "# Split into train and test sets\n",
        "X_train, X_test, y_train, y_test = train_test_split(X, y, test_size=0.2, random_state=42)\n",
        "\n",
        "# Define a random forest classifier\n",
        "clf = RandomForestClassifier(n_estimators=100, random_state=42)\n",
        "# Fit the model to the data\n",
        "clf.fit(X, y)\n",
        "\n",
        "# Function to get feature rankings from RFE\n",
        "def get_rfe_feature_rankings(X, y, clf):\n",
        "    rfe = RFE(clf, n_features_to_select=5)\n",
        "    rfe.fit(X, y)\n",
        "    rankings = rfe.ranking_\n",
        "    return rankings\n",
        "\n",
        "# Function to get feature rankings from Statistical feature selection\n",
        "def get_stat_feature_rankings(X, y):\n",
        "    skb = SelectKBest(f_classif, k='all')\n",
        "    skb.fit(X, y)\n",
        "    rankings = -np.log10(skb.pvalues_)\n",
        "    return rankings\n",
        "\n",
        "# Function to get feature rankings from Permutation Feature Importance\n",
        "def get_permutation_feature_rankings(X, y, clf):\n",
        "    result = permutation_importance(clf, X, y, n_repeats=8, random_state=42)\n",
        "    rankings = result.importances_mean\n",
        "    return rankings\n",
        "\n",
        "# Get feature rankings for each method\n",
        "rfe_rankings = get_rfe_feature_rankings(X_train, y_train, clf)\n",
        "stat_rankings = get_stat_feature_rankings(X_train, y_train)\n",
        "perm_rankings = get_permutation_feature_rankings(X_train, y_train, clf)\n",
        "\n",
        "# Plot feature rankings\n",
        "plt.figure(figsize=(15, 5))\n",
        "\n",
        "plt.subplot(1, 3, 1)\n",
        "plt.bar(range(1, len(rfe_rankings) + 1), rfe_rankings)\n",
        "plt.title('RFE Feature Rankings')\n",
        "plt.xlabel('Feature Index')\n",
        "plt.ylabel('Ranking')\n",
        "\n",
        "plt.subplot(1, 3, 2)\n",
        "plt.bar(range(1, len(stat_rankings) + 1), stat_rankings)\n",
        "plt.title('Statistical Feature Rankings')\n",
        "plt.xlabel('Feature Index')\n",
        "plt.ylabel('-log(p-value)')\n",
        "\n",
        "plt.subplot(1, 3, 3)\n",
        "plt.bar(range(1, len(perm_rankings) + 1), perm_rankings)\n",
        "plt.title('Permutation Feature Importance Rankings')\n",
        "plt.xlabel('Feature Index')\n",
        "plt.ylabel('Importance')\n",
        "\n",
        "plt.tight_layout()\n",
        "plt.show()"
      ],
      "metadata": {
        "id": "fP9csLfRT7o_",
        "colab": {
          "base_uri": "https://localhost:8080/",
          "height": 487
        },
        "outputId": "37db843d-75c8-4a8c-c177-0020058eeb02"
      },
      "execution_count": 29,
      "outputs": [
        {
          "output_type": "display_data",
          "data": {
            "text/plain": [
              "<Figure size 1500x500 with 3 Axes>"
            ],
            "image/png": "[encoded data removed]"
          },
          "metadata": {}
        }
      ]
    },
    {
      "cell_type": "markdown",
      "source": [
        "\n",
        "\n",
        "1.   Feature Index: This column shows the index of the features used in the model. The index ranges from 0 to 40.\n",
        "2.   RFE Feature Rankings: This column shows the ranking of the features based on the Recursive Feature Elimination (RFE) method. The ranking ranges from 0 to 20.0, with lower values indicating more important features.\n",
        "3.  Statistical Feature Rankings: This column shows the ranking of the features based on statistical measures. The ranking ranges from 0.0 to 20.0, with lower values indicating more important features.\n",
        "4. Permutation Feature Importance Rankings: This column shows the ranking of the features based on permutation feature importance. The ranking ranges from 0.0 to 20.0, with lower values indicating more important features.\n",
        "\n",
        "\n",
        "\n",
        "---\n",
        "โดยรวมแล้ว feature index 2,3,6,7 และ 8 ของวิธี REF เหมาะสม\n",
        "\n",
        "โดยรวมแล้ว feature index 1,3,4,5 และ 7 ของวิธี Stat feature selection เหมาะสม\n",
        "\n",
        "โดยรวมแล้ว feature index 2 เพียงอันเดียวที่ไม่เหมาะสม\n",
        "\n",
        "\n",
        "\n"
      ],
      "metadata": {
        "id": "9B0W5azM8xxB"
      }
    }
  ]
}